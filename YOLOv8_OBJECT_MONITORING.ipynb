{
  "nbformat": 4,
  "nbformat_minor": 0,
  "metadata": {
    "colab": {
      "provenance": [],
      "authorship_tag": "ABX9TyOx14lhsFInCF+X5BsLkrId",
      "include_colab_link": true
    },
    "kernelspec": {
      "name": "python3",
      "display_name": "Python 3"
    },
    "language_info": {
      "name": "python"
    }
  },
  "cells": [
    {
      "cell_type": "markdown",
      "metadata": {
        "id": "view-in-github",
        "colab_type": "text"
      },
      "source": [
        "<a href=\"https://colab.research.google.com/github/FarzanaR11/AI-Horde/blob/main/YOLOv8_OBJECT_MONITORING.ipynb\" target=\"_parent\"><img src=\"https://colab.research.google.com/assets/colab-badge.svg\" alt=\"Open In Colab\"/></a>"
      ]
    },
    {
      "cell_type": "markdown",
      "source": [
        "YOLOv8 OBJECT MONITORING\n",
        "\n",
        "https://www.youtube.com/watch?v=aBVGKoNZQUw&list=PLZCA39VpuaZZ1cjH4vEIdXIb0dCpZs3Y5&index=11\n",
        "https://chatgpt.com/c/672ee5d1-4810-8013-9eb6-ca7c37b5917a"
      ],
      "metadata": {
        "id": "OJwyfjOzMD-8"
      }
    },
    {
      "cell_type": "code",
      "execution_count": 1,
      "metadata": {
        "colab": {
          "base_uri": "https://localhost:8080/"
        },
        "collapsed": true,
        "id": "yx79sda9MCZE",
        "outputId": "ad9653a8-6602-4deb-e4fe-83ee754c721d"
      },
      "outputs": [
        {
          "output_type": "stream",
          "name": "stdout",
          "text": [
            "Collecting ultralytics\n",
            "  Downloading ultralytics-8.3.28-py3-none-any.whl.metadata (35 kB)\n",
            "Requirement already satisfied: opencv-python in /usr/local/lib/python3.10/dist-packages (4.10.0.84)\n",
            "Requirement already satisfied: numpy in /usr/local/lib/python3.10/dist-packages (1.26.4)\n",
            "Requirement already satisfied: matplotlib>=3.3.0 in /usr/local/lib/python3.10/dist-packages (from ultralytics) (3.8.0)\n",
            "Requirement already satisfied: pillow>=7.1.2 in /usr/local/lib/python3.10/dist-packages (from ultralytics) (10.4.0)\n",
            "Requirement already satisfied: pyyaml>=5.3.1 in /usr/local/lib/python3.10/dist-packages (from ultralytics) (6.0.2)\n",
            "Requirement already satisfied: requests>=2.23.0 in /usr/local/lib/python3.10/dist-packages (from ultralytics) (2.32.3)\n",
            "Requirement already satisfied: scipy>=1.4.1 in /usr/local/lib/python3.10/dist-packages (from ultralytics) (1.13.1)\n",
            "Requirement already satisfied: torch>=1.8.0 in /usr/local/lib/python3.10/dist-packages (from ultralytics) (2.5.0+cu121)\n",
            "Requirement already satisfied: torchvision>=0.9.0 in /usr/local/lib/python3.10/dist-packages (from ultralytics) (0.20.0+cu121)\n",
            "Requirement already satisfied: tqdm>=4.64.0 in /usr/local/lib/python3.10/dist-packages (from ultralytics) (4.66.6)\n",
            "Requirement already satisfied: psutil in /usr/local/lib/python3.10/dist-packages (from ultralytics) (5.9.5)\n",
            "Requirement already satisfied: py-cpuinfo in /usr/local/lib/python3.10/dist-packages (from ultralytics) (9.0.0)\n",
            "Requirement already satisfied: pandas>=1.1.4 in /usr/local/lib/python3.10/dist-packages (from ultralytics) (2.2.2)\n",
            "Requirement already satisfied: seaborn>=0.11.0 in /usr/local/lib/python3.10/dist-packages (from ultralytics) (0.13.2)\n",
            "Collecting ultralytics-thop>=2.0.0 (from ultralytics)\n",
            "  Downloading ultralytics_thop-2.0.11-py3-none-any.whl.metadata (9.4 kB)\n",
            "Requirement already satisfied: contourpy>=1.0.1 in /usr/local/lib/python3.10/dist-packages (from matplotlib>=3.3.0->ultralytics) (1.3.0)\n",
            "Requirement already satisfied: cycler>=0.10 in /usr/local/lib/python3.10/dist-packages (from matplotlib>=3.3.0->ultralytics) (0.12.1)\n",
            "Requirement already satisfied: fonttools>=4.22.0 in /usr/local/lib/python3.10/dist-packages (from matplotlib>=3.3.0->ultralytics) (4.54.1)\n",
            "Requirement already satisfied: kiwisolver>=1.0.1 in /usr/local/lib/python3.10/dist-packages (from matplotlib>=3.3.0->ultralytics) (1.4.7)\n",
            "Requirement already satisfied: packaging>=20.0 in /usr/local/lib/python3.10/dist-packages (from matplotlib>=3.3.0->ultralytics) (24.1)\n",
            "Requirement already satisfied: pyparsing>=2.3.1 in /usr/local/lib/python3.10/dist-packages (from matplotlib>=3.3.0->ultralytics) (3.2.0)\n",
            "Requirement already satisfied: python-dateutil>=2.7 in /usr/local/lib/python3.10/dist-packages (from matplotlib>=3.3.0->ultralytics) (2.8.2)\n",
            "Requirement already satisfied: pytz>=2020.1 in /usr/local/lib/python3.10/dist-packages (from pandas>=1.1.4->ultralytics) (2024.2)\n",
            "Requirement already satisfied: tzdata>=2022.7 in /usr/local/lib/python3.10/dist-packages (from pandas>=1.1.4->ultralytics) (2024.2)\n",
            "Requirement already satisfied: charset-normalizer<4,>=2 in /usr/local/lib/python3.10/dist-packages (from requests>=2.23.0->ultralytics) (3.4.0)\n",
            "Requirement already satisfied: idna<4,>=2.5 in /usr/local/lib/python3.10/dist-packages (from requests>=2.23.0->ultralytics) (3.10)\n",
            "Requirement already satisfied: urllib3<3,>=1.21.1 in /usr/local/lib/python3.10/dist-packages (from requests>=2.23.0->ultralytics) (2.2.3)\n",
            "Requirement already satisfied: certifi>=2017.4.17 in /usr/local/lib/python3.10/dist-packages (from requests>=2.23.0->ultralytics) (2024.8.30)\n",
            "Requirement already satisfied: filelock in /usr/local/lib/python3.10/dist-packages (from torch>=1.8.0->ultralytics) (3.16.1)\n",
            "Requirement already satisfied: typing-extensions>=4.8.0 in /usr/local/lib/python3.10/dist-packages (from torch>=1.8.0->ultralytics) (4.12.2)\n",
            "Requirement already satisfied: networkx in /usr/local/lib/python3.10/dist-packages (from torch>=1.8.0->ultralytics) (3.4.2)\n",
            "Requirement already satisfied: jinja2 in /usr/local/lib/python3.10/dist-packages (from torch>=1.8.0->ultralytics) (3.1.4)\n",
            "Requirement already satisfied: fsspec in /usr/local/lib/python3.10/dist-packages (from torch>=1.8.0->ultralytics) (2024.10.0)\n",
            "Requirement already satisfied: sympy==1.13.1 in /usr/local/lib/python3.10/dist-packages (from torch>=1.8.0->ultralytics) (1.13.1)\n",
            "Requirement already satisfied: mpmath<1.4,>=1.1.0 in /usr/local/lib/python3.10/dist-packages (from sympy==1.13.1->torch>=1.8.0->ultralytics) (1.3.0)\n",
            "Requirement already satisfied: six>=1.5 in /usr/local/lib/python3.10/dist-packages (from python-dateutil>=2.7->matplotlib>=3.3.0->ultralytics) (1.16.0)\n",
            "Requirement already satisfied: MarkupSafe>=2.0 in /usr/local/lib/python3.10/dist-packages (from jinja2->torch>=1.8.0->ultralytics) (3.0.2)\n",
            "Downloading ultralytics-8.3.28-py3-none-any.whl (881 kB)\n",
            "\u001b[2K   \u001b[90m━━━━━━━━━━━━━━━━━━━━━━━━━━━━━━━━━━━━━━━━\u001b[0m \u001b[32m881.2/881.2 kB\u001b[0m \u001b[31m11.8 MB/s\u001b[0m eta \u001b[36m0:00:00\u001b[0m\n",
            "\u001b[?25hDownloading ultralytics_thop-2.0.11-py3-none-any.whl (26 kB)\n",
            "Installing collected packages: ultralytics-thop, ultralytics\n",
            "Successfully installed ultralytics-8.3.28 ultralytics-thop-2.0.11\n"
          ]
        }
      ],
      "source": [
        "pip install ultralytics opencv-python numpy"
      ]
    },
    {
      "cell_type": "code",
      "source": [
        "import cv2\n",
        "import numpy as np\n",
        "import time\n",
        "from ultralytics import YOLO\n",
        "\n",
        "# Load the YOLOv8 model\n",
        "model = YOLO(\"yolov8n.pt\")  # Use 'yolov8n.pt' or a larger model if preferred\n"
      ],
      "metadata": {
        "colab": {
          "base_uri": "https://localhost:8080/"
        },
        "id": "fho8o0F-MmHl",
        "outputId": "7ffda56a-4108-44f7-b98a-2781ad41ada8"
      },
      "execution_count": 2,
      "outputs": [
        {
          "output_type": "stream",
          "name": "stdout",
          "text": [
            "Creating new Ultralytics Settings v0.0.6 file ✅ \n",
            "View Ultralytics Settings with 'yolo settings' or at '/root/.config/Ultralytics/settings.json'\n",
            "Update Settings with 'yolo settings key=value', i.e. 'yolo settings runs_dir=path/to/dir'. For help see https://docs.ultralytics.com/quickstart/#ultralytics-settings.\n",
            "Downloading https://github.com/ultralytics/assets/releases/download/v8.3.0/yolov8n.pt to 'yolov8n.pt'...\n"
          ]
        },
        {
          "output_type": "stream",
          "name": "stderr",
          "text": [
            "100%|██████████| 6.25M/6.25M [00:00<00:00, 76.0MB/s]\n"
          ]
        }
      ]
    },
    {
      "cell_type": "code",
      "source": [
        "import cv2\n",
        "import numpy as np\n",
        "import time\n",
        "from ultralytics import YOLO\n",
        "\n",
        "# Load the YOLOv8 model\n",
        "model = YOLO(\"yolov8n.pt\")  # Use 'yolov8n.pt' or a larger model if preferred\n",
        "\n",
        "# Define the zones as polygons using coordinates\n",
        "# Replace with actual coordinates for your zones:\n",
        "x1, y1 = 100, 100  # Example coordinates for Cabin 1\n",
        "x2, y2 = 200, 100\n",
        "x3, y3 = 200, 200\n",
        "x4, y4 = 100, 200\n",
        "\n",
        "x5, y5 = 300, 100  # Example coordinates for Cabin 2\n",
        "x6, y6 = 400, 100\n",
        "x7, y7 = 400, 200\n",
        "x8, y8 = 300, 200\n",
        "\n",
        "zones = [\n",
        "    np.array([[x1, y1], [x2, y2], [x3, y3], [x4, y4]]),  # Cabin 1\n",
        "    np.array([[x5, y5], [x6, y6], [x7, y7], [x8, y8]]),  # Cabin 2\n",
        "    # Add more zones as needed\n",
        "]\n",
        "zone_times = {i: 0 for i in range(len(zones))}\n",
        "zone_entries = {i: {} for i in range(len(zones))}"
      ],
      "metadata": {
        "id": "xXinBjUxMm0k"
      },
      "execution_count": 4,
      "outputs": []
    },
    {
      "cell_type": "code",
      "source": [
        "# Start video capture\n",
        "cap = cv2.VideoCapture(0)  # Use 0 for webcam or provide video file path\n",
        "\n",
        "while True:\n",
        "    ret, frame = cap.read()\n",
        "    if not ret:\n",
        "        break\n",
        "\n",
        "    # Run YOLOv8 inference\n",
        "    results = model(frame)\n",
        "\n",
        "    # Get detections\n",
        "    for result in results:\n",
        "        for box in result.boxes:\n",
        "            if box.cls == 0:  # '0' is usually the class ID for 'person'\n",
        "                x1, y1, x2, y2 = map(int, box.xyxy[0])\n",
        "                person_center = ((x1 + x2) // 2, (y1 + y2) // 2)\n",
        "\n",
        "                # Check which zone the person is in\n",
        "                for zone_index, zone in enumerate(zones):\n",
        "                    if cv2.pointPolygonTest(zone, person_center, False) >= 0:\n",
        "                        if zone_index not in zone_entries:\n",
        "                            zone_entries[zone_index][box.id] = time.time()\n",
        "                        else:\n",
        "                            entry_time = zone_entries[zone_index].get(box.id, time.time())\n",
        "                            zone_times[zone_index] += time.time() - entry_time\n",
        "                            zone_entries[zone_index][box.id] = time.time()\n",
        "\n",
        "                        # Draw the zone and bounding box\n",
        "                        cv2.polylines(frame, [zone], True, (0, 255, 0), 2)\n",
        "                        cv2.rectangle(frame, (x1, y1), (x2, y2), (255, 0, 0), 2)\n",
        "                        cv2.putText(frame, f\"Cabin {zone_index+1}: {int(zone_times[zone_index])}s\",\n",
        "                                    (x1, y1 - 10), cv2.FONT_HERSHEY_SIMPLEX, 0.5, (255, 255, 255), 2)\n",
        "\n",
        "    # Show the frame\n",
        "    cv2.imshow(\"Productivity Monitoring\", frame)\n",
        "\n",
        "    # Press 'q' to quit\n",
        "    if cv2.waitKey(1) & 0xFF == ord('q'):\n",
        "        break\n",
        "\n",
        "cap.release()\n",
        "cv2.destroyAllWindows()\n"
      ],
      "metadata": {
        "id": "PK3fR2HFMqEF"
      },
      "execution_count": 5,
      "outputs": []
    },
    {
      "cell_type": "code",
      "source": [
        "import cv2\n",
        "import numpy as np\n",
        "import time\n",
        "from ultralytics import YOLO\n",
        "\n",
        "# Load the YOLOv8 model\n",
        "model = YOLO(\"yolov8n.pt\")  # Use a larger model like 'yolov8s.pt' for higher accuracy if needed\n",
        "\n",
        "# Define zones as polygons using coordinates (replace with your workspace zones)\n",
        "zones = [\n",
        "    np.array([[100, 100], [200, 100], [200, 200], [100, 200]]),  # Example coordinates for Zone 1\n",
        "    np.array([[300, 100], [400, 100], [400, 200], [300, 200]]),  # Example coordinates for Zone 2\n",
        "    # Add more zones as needed\n",
        "]\n",
        "\n",
        "# Initialize dictionaries to track time and entries\n",
        "zone_times = {i: 0 for i in range(len(zones))}\n",
        "zone_entries = {i: {} for i in range(len(zones))}\n",
        "\n",
        "# Start video capture\n",
        "cap = cv2.VideoCapture(0)  # Use 0 for webcam or provide a video file path\n",
        "\n",
        "while True:\n",
        "    ret, frame = cap.read()\n",
        "    if not ret:\n",
        "        break\n",
        "\n",
        "    # Run YOLOv8 inference\n",
        "    results = model(frame)\n",
        "\n",
        "    # Get current time for time tracking\n",
        "    current_time = time.time()\n",
        "\n",
        "    # Iterate over each detection\n",
        "    for result in results:\n",
        "        for box in result.boxes:\n",
        "            if box.cls == 0:  # '0' is usually the class ID for 'person' in YOLO\n",
        "                x1, y1, x2, y2 = map(int, box.xyxy[0])\n",
        "                person_center = ((x1 + x2) // 2, (y1 + y2) // 2)\n",
        "\n",
        "                # Check if the person is in any zone\n",
        "                for zone_index, zone in enumerate(zones):\n",
        "                    if cv2.pointPolygonTest(zone, person_center, False) >= 0:\n",
        "                        # If person is in the zone, update time\n",
        "                        if box.id not in zone_entries[zone_index]:\n",
        "                            zone_entries[zone_index][box.id] = current_time\n",
        "                        else:\n",
        "                            entry_time = zone_entries[zone_index][box.id]\n",
        "                            zone_times[zone_index] += current_time - entry_time\n",
        "                            zone_entries[zone_index][box.id] = current_time\n",
        "\n",
        "                        # Draw the zone and bounding box\n",
        "                        cv2.polylines(frame, [zone], True, (0, 255, 0), 2)\n",
        "                        cv2.rectangle(frame, (x1, y1), (x2, y2), (255, 0, 0), 2)\n",
        "                        cv2.putText(\n",
        "                            frame,\n",
        "                            f\"Cabin {zone_index + 1}: {int(zone_times[zone_index])}s\",\n",
        "                            (x1, y1 - 10),\n",
        "                            cv2.FONT_HERSHEY_SIMPLEX,\n",
        "                            0.5,\n",
        "                            (255, 255, 255),\n",
        "                            2,\n",
        "                        )\n",
        "\n",
        "    # Display the video feed with annotations\n",
        "    cv2.imshow(\"Productivity Monitoring\", frame)\n",
        "\n",
        "    # Press 'q' to quit\n",
        "    if cv2.waitKey(1) & 0xFF == ord('q'):\n",
        "        break\n",
        "\n",
        "# Release the video capture object and close all OpenCV windows\n",
        "cap.release()\n",
        "cv2.destroyAllWindows()\n"
      ],
      "metadata": {
        "id": "p1Fk_PmgNlAu"
      },
      "execution_count": 6,
      "outputs": []
    }
  ]
}